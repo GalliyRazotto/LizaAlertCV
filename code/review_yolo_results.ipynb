{
 "cells": [
  {
   "cell_type": "code",
   "execution_count": 1,
   "id": "90809eb5",
   "metadata": {},
   "outputs": [],
   "source": [
    "import pandas as pd\n",
    "import json as js\n",
    "import torch\n",
    "import cv2\n",
    "from tqdm import tqdm"
   ]
  },
  {
   "cell_type": "code",
   "execution_count": 2,
   "id": "6cc33831",
   "metadata": {},
   "outputs": [],
   "source": [
    "sample = pd.read_csv('sample_solution.csv')"
   ]
  },
  {
   "cell_type": "code",
   "execution_count": 3,
   "id": "868abf8d",
   "metadata": {},
   "outputs": [
    {
     "data": {
      "text/html": [
       "<div>\n",
       "<style scoped>\n",
       "    .dataframe tbody tr th:only-of-type {\n",
       "        vertical-align: middle;\n",
       "    }\n",
       "\n",
       "    .dataframe tbody tr th {\n",
       "        vertical-align: top;\n",
       "    }\n",
       "\n",
       "    .dataframe thead th {\n",
       "        text-align: right;\n",
       "    }\n",
       "</style>\n",
       "<table border=\"1\" class=\"dataframe\">\n",
       "  <thead>\n",
       "    <tr style=\"text-align: right;\">\n",
       "      <th></th>\n",
       "      <th>ID_img</th>\n",
       "      <th>region_shape</th>\n",
       "    </tr>\n",
       "  </thead>\n",
       "  <tbody>\n",
       "    <tr>\n",
       "      <th>0</th>\n",
       "      <td>1.JPG</td>\n",
       "      <td>0</td>\n",
       "    </tr>\n",
       "    <tr>\n",
       "      <th>1</th>\n",
       "      <td>2.JPG</td>\n",
       "      <td>0</td>\n",
       "    </tr>\n",
       "    <tr>\n",
       "      <th>2</th>\n",
       "      <td>3.JPG</td>\n",
       "      <td>0</td>\n",
       "    </tr>\n",
       "    <tr>\n",
       "      <th>3</th>\n",
       "      <td>4.JPG</td>\n",
       "      <td>0</td>\n",
       "    </tr>\n",
       "    <tr>\n",
       "      <th>4</th>\n",
       "      <td>5.JPG</td>\n",
       "      <td>0</td>\n",
       "    </tr>\n",
       "  </tbody>\n",
       "</table>\n",
       "</div>"
      ],
      "text/plain": [
       "  ID_img  region_shape\n",
       "0  1.JPG             0\n",
       "1  2.JPG             0\n",
       "2  3.JPG             0\n",
       "3  4.JPG             0\n",
       "4  5.JPG             0"
      ]
     },
     "execution_count": 3,
     "metadata": {},
     "output_type": "execute_result"
    }
   ],
   "source": [
    "sample.head()"
   ]
  },
  {
   "cell_type": "code",
   "execution_count": 4,
   "id": "4f1ff6d3",
   "metadata": {},
   "outputs": [
    {
     "data": {
      "text/plain": [
       "3435"
      ]
     },
     "execution_count": 4,
     "metadata": {},
     "output_type": "execute_result"
    }
   ],
   "source": [
    "len(sample)"
   ]
  },
  {
   "cell_type": "code",
   "execution_count": 5,
   "id": "d66e1010",
   "metadata": {},
   "outputs": [
    {
     "name": "stderr",
     "output_type": "stream",
     "text": [
      "Using cache found in C:\\Users\\yeahk/.cache\\torch\\hub\\ultralytics_yolov5_master\n",
      "YOLOv5  2022-11-10 Python-3.9.13 torch-1.13.0+cpu CPU\n",
      "\n",
      "Fusing layers... \n",
      "Model summary: 157 layers, 7012822 parameters, 0 gradients\n",
      "Adding AutoShape... \n"
     ]
    }
   ],
   "source": [
    "model = torch.hub.load('ultralytics/yolov5', 'custom', path='best_3.pt')"
   ]
  },
  {
   "cell_type": "code",
   "execution_count": 6,
   "id": "95e7ec5e",
   "metadata": {},
   "outputs": [
    {
     "name": "stderr",
     "output_type": "stream",
     "text": [
      "100%|██████████| 3435/3435 [12:59<00:00,  4.41it/s]\n"
     ]
    }
   ],
   "source": [
    "predictions = []\n",
    "for name in tqdm(sample['ID_img']):\n",
    "    image = cv2.imread('D:/Study/DigitalBreakThrough2022/CVOmsk/test_dataset_test()/test/'+name)\n",
    "    predictions.append(model(image))"
   ]
  },
  {
   "cell_type": "code",
   "execution_count": 7,
   "id": "dbfde6c0",
   "metadata": {},
   "outputs": [],
   "source": [
    "results = []\n",
    "for tensor in predictions:\n",
    "    res = []\n",
    "    if len(tensor.xywh[0]) != 0:\n",
    "        for obj in tensor.xywh[0].tolist():\n",
    "            coordinates = {}\n",
    "            coordinates['cx'] = int(obj[0])\n",
    "            coordinates['cy'] = int(obj[1])\n",
    "            coordinates['r'] = int((obj[2] + obj[3]) / 4)\n",
    "            res.append(str(js.dumps(coordinates)))\n",
    "    else:\n",
    "        res = 0\n",
    "    results.append(res)"
   ]
  },
  {
   "cell_type": "code",
   "execution_count": 8,
   "id": "2cc0b4e2",
   "metadata": {},
   "outputs": [],
   "source": [
    "sample['region_shape'] = results\n",
    "sample = sample.set_index('ID_img')\n",
    "sample.to_csv('submission_4.csv')"
   ]
  }
 ],
 "metadata": {
  "kernelspec": {
   "display_name": "Python 3 (ipykernel)",
   "language": "python",
   "name": "python3"
  },
  "language_info": {
   "codemirror_mode": {
    "name": "ipython",
    "version": 3
   },
   "file_extension": ".py",
   "mimetype": "text/x-python",
   "name": "python",
   "nbconvert_exporter": "python",
   "pygments_lexer": "ipython3",
   "version": "3.9.13"
  }
 },
 "nbformat": 4,
 "nbformat_minor": 5
}
